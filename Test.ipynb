{
 "cells": [
  {
   "cell_type": "code",
   "execution_count": 8,
   "id": "a37c894e",
   "metadata": {},
   "outputs": [
    {
     "name": "stdout",
     "output_type": "stream",
     "text": [
      "['b', 'kkbk']\n",
      "['My first birthday was great.', ' My 2. was even better.']\n"
     ]
    }
   ],
   "source": [
    "nlp = []\n",
    "nlp = ['b','kkbk']\n",
    "\n",
    "print(nlp)\n",
    "def sentencizer(text):\n",
    "    list = ['My first birthday was great.',' My 2. was even better.']\n",
    "    return list\n",
    "    \"\"\"\n",
    "    Receives a string as an input,\n",
    "    splits the document to sentences and gathers them in a list.\n",
    "    \"\"\"\n",
    "print(sentencizer('My first birthday was great. My 2. was even better.'))"
   ]
  },
  {
   "cell_type": "code",
   "execution_count": 10,
   "id": "30053881",
   "metadata": {},
   "outputs": [
    {
     "name": "stdout",
     "output_type": "stream",
     "text": [
      "['b', 'kkbk']\n"
     ]
    }
   ],
   "source": [
    "def lemmatizer(text):\n",
    "    list = []\n",
    "    doc = ['b','kkbk']\n",
    "    for token in doc:\n",
    "        list.append(token)\n",
    "    return list\n",
    "print(lemmatizer('g'))"
   ]
  },
  {
   "cell_type": "code",
   "execution_count": 11,
   "id": "c8393939",
   "metadata": {},
   "outputs": [
    {
     "ename": "ModuleNotFoundError",
     "evalue": "No module named 'numpy'",
     "output_type": "error",
     "traceback": [
      "\u001b[1;31m---------------------------------------------------------------------------\u001b[0m",
      "\u001b[1;31mModuleNotFoundError\u001b[0m                       Traceback (most recent call last)",
      "Cell \u001b[1;32mIn[11], line 1\u001b[0m\n\u001b[1;32m----> 1\u001b[0m \u001b[38;5;28;01mimport\u001b[39;00m \u001b[38;5;21;01mnumpy\u001b[39;00m \u001b[38;5;28;01mas\u001b[39;00m \u001b[38;5;21;01mnp\u001b[39;00m\n",
      "\u001b[1;31mModuleNotFoundError\u001b[0m: No module named 'numpy'"
     ]
    }
   ],
   "source": [
    "import numpy as np\n"
   ]
  },
  {
   "cell_type": "code",
   "execution_count": 31,
   "id": "fc6ac758",
   "metadata": {},
   "outputs": [
    {
     "ename": "SyntaxError",
     "evalue": "invalid syntax (1618423497.py, line 31)",
     "output_type": "error",
     "traceback": [
      "\u001b[1;36m  Cell \u001b[1;32mIn[31], line 31\u001b[1;36m\u001b[0m\n\u001b[1;33m    for i in range len(sequence)-1:\u001b[0m\n\u001b[1;37m                   ^\u001b[0m\n\u001b[1;31mSyntaxError\u001b[0m\u001b[1;31m:\u001b[0m invalid syntax\n"
     ]
    }
   ],
   "source": [
    "from itertools import tee\n",
    "\n",
    "doc = [\"a\",\n",
    "    \"wizard\",\n",
    "    \"be\",\n",
    "    \"never\",\n",
    "    \"late\",\n",
    "    \",\",\n",
    "    \"Frodo\",\n",
    "    \"Baggins\",\n",
    "    \".\",\n",
    "    \"nor\",\n",
    "    \"be\",\n",
    "    \"he\",\n",
    "    \"early\",\n",
    "    \";\",\n",
    "    \"he\",\n",
    "    \"arrive\",\n",
    "    \"precisely\",\n",
    "    \"when\",\n",
    "    \"he\",\n",
    "    \"mean\",\n",
    "    \"to\",\n",
    "    \".\",]\n",
    "\n",
    "print(doc)\n",
    "def ngrams(sequence, n, **kwargs):\n",
    "    #The yield statement in Python returns a generator.\n",
    "    print(sequence)\n",
    "    list = []\n",
    "    for i in range len(sequence)-1:\n",
    "        list.append((sequence[i], sequence[i+1]))\n",
    "    \n",
    "        #yield sequence[i]\n",
    "\n",
    "ngrams(doc, 2)\n",
    "\n",
    "\n",
    "        "
   ]
  },
  {
   "cell_type": "code",
   "execution_count": 6,
   "id": "d043cb86",
   "metadata": {},
   "outputs": [
    {
     "name": "stdout",
     "output_type": "stream",
     "text": [
      "4\n"
     ]
    }
   ],
   "source": [
    "import spacy\n",
    "import numpy as np\n",
    "import pandas as pd\n",
    "\n",
    "from functools import partial\n",
    "\n",
    "sum = lambda x, y : x + y\n",
    "sum(1, 2)\n",
    "incr = lambda y : sum(1, y)\n",
    "incr(2)\n",
    "\n",
    "# permet de stocker les arguments que l'on veut garder pareil à chaque fois\n",
    "def sum2(x, y):\n",
    "    return x\n",
    "incr2 = partial(sum2, y=2)\n",
    "incr2(4)\n",
    "print(incr2(4))\n",
    "\n"
   ]
  },
  {
   "cell_type": "code",
   "execution_count": null,
   "id": "6e67a82d",
   "metadata": {},
   "outputs": [],
   "source": []
  }
 ],
 "metadata": {
  "kernelspec": {
   "display_name": "Python 3 (ipykernel)",
   "language": "python",
   "name": "python3"
  },
  "language_info": {
   "codemirror_mode": {
    "name": "ipython",
    "version": 3
   },
   "file_extension": ".py",
   "mimetype": "text/x-python",
   "name": "python",
   "nbconvert_exporter": "python",
   "pygments_lexer": "ipython3",
   "version": "3.9.16"
  }
 },
 "nbformat": 4,
 "nbformat_minor": 5
}
