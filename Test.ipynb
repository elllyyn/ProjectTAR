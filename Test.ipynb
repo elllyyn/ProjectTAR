{
 "cells": [
  {
   "cell_type": "code",
   "execution_count": 6,
   "id": "a37c894e",
   "metadata": {},
   "outputs": [
    {
     "data": {
      "text/html": [
       "<div>\n",
       "<style scoped>\n",
       "    .dataframe tbody tr th:only-of-type {\n",
       "        vertical-align: middle;\n",
       "    }\n",
       "\n",
       "    .dataframe tbody tr th {\n",
       "        vertical-align: top;\n",
       "    }\n",
       "\n",
       "    .dataframe thead th {\n",
       "        text-align: right;\n",
       "    }\n",
       "</style>\n",
       "<table border=\"1\" class=\"dataframe\">\n",
       "  <thead>\n",
       "    <tr style=\"text-align: right;\">\n",
       "      <th></th>\n",
       "      <th>Correct Statement</th>\n",
       "      <th>Incorrect Statement</th>\n",
       "      <th>Right Reason1</th>\n",
       "      <th>Confusing Reason1</th>\n",
       "      <th>Confusing Reason2</th>\n",
       "      <th>Right Reason2</th>\n",
       "      <th>Right Reason3</th>\n",
       "    </tr>\n",
       "  </thead>\n",
       "  <tbody>\n",
       "    <tr>\n",
       "      <th>0</th>\n",
       "      <td>He poured milk on his cereal.</td>\n",
       "      <td>He poured orange juice on his cereal.</td>\n",
       "      <td>Orange juice doesn't taste good on cereal.</td>\n",
       "      <td>Orange juice is usually bright orange.</td>\n",
       "      <td>Orange juice is sticky if you spill it on the ...</td>\n",
       "      <td>Orange juice is poured in a glass.</td>\n",
       "      <td>Orange juice does not taste good on cereal.</td>\n",
       "    </tr>\n",
       "    <tr>\n",
       "      <th>1</th>\n",
       "      <td>He drinks milk.</td>\n",
       "      <td>He drinks apple.</td>\n",
       "      <td>Apple can not be drunk</td>\n",
       "      <td>Apple juice are very tasty and milk too</td>\n",
       "      <td>Apple cannot eat a human</td>\n",
       "      <td>An apple is a whole food and unable to be drun...</td>\n",
       "      <td>He eats an apple</td>\n",
       "    </tr>\n",
       "    <tr>\n",
       "      <th>2</th>\n",
       "      <td>Jeff ran a mile today</td>\n",
       "      <td>Jeff ran 100,000 miles today</td>\n",
       "      <td>100,000 miles is way to long for one person to...</td>\n",
       "      <td>Jeff is a four letter name and 100,000 has six...</td>\n",
       "      <td>100,000 miles is longer than 100,000 km.</td>\n",
       "      <td>This is not physically possible to achieve</td>\n",
       "      <td>No way can someone run 100,000 miles in a day</td>\n",
       "    </tr>\n",
       "    <tr>\n",
       "      <th>3</th>\n",
       "      <td>A mosquito stings me</td>\n",
       "      <td>I sting a mosquito</td>\n",
       "      <td>A human has not stings</td>\n",
       "      <td>A human is a mammal</td>\n",
       "      <td>A human is omnivorous</td>\n",
       "      <td>I do not have a stinger.</td>\n",
       "      <td>mosquitos sting people, not the other way around</td>\n",
       "    </tr>\n",
       "    <tr>\n",
       "      <th>4</th>\n",
       "      <td>A niece is a person.</td>\n",
       "      <td>A giraffe is a person.</td>\n",
       "      <td>A giraffe is not a human being.</td>\n",
       "      <td>Giraffes can drink water from a lake.</td>\n",
       "      <td>.Giraffes usually eat leaves.</td>\n",
       "      <td>A giraffe is an animal, not human.</td>\n",
       "      <td>A giraffe is an animal.</td>\n",
       "    </tr>\n",
       "  </tbody>\n",
       "</table>\n",
       "</div>"
      ],
      "text/plain": [
       "               Correct Statement                    Incorrect Statement   \n",
       "0  He poured milk on his cereal.  He poured orange juice on his cereal.  \\\n",
       "1                He drinks milk.                       He drinks apple.   \n",
       "2          Jeff ran a mile today           Jeff ran 100,000 miles today   \n",
       "3           A mosquito stings me                     I sting a mosquito   \n",
       "4           A niece is a person.                 A giraffe is a person.   \n",
       "\n",
       "                                       Right Reason1   \n",
       "0         Orange juice doesn't taste good on cereal.  \\\n",
       "1                             Apple can not be drunk   \n",
       "2  100,000 miles is way to long for one person to...   \n",
       "3                             A human has not stings   \n",
       "4                    A giraffe is not a human being.   \n",
       "\n",
       "                                   Confusing Reason1   \n",
       "0             Orange juice is usually bright orange.  \\\n",
       "1            Apple juice are very tasty and milk too   \n",
       "2  Jeff is a four letter name and 100,000 has six...   \n",
       "3                                A human is a mammal   \n",
       "4              Giraffes can drink water from a lake.   \n",
       "\n",
       "                                   Confusing Reason2   \n",
       "0  Orange juice is sticky if you spill it on the ...  \\\n",
       "1                           Apple cannot eat a human   \n",
       "2           100,000 miles is longer than 100,000 km.   \n",
       "3                              A human is omnivorous   \n",
       "4                      .Giraffes usually eat leaves.   \n",
       "\n",
       "                                       Right Reason2   \n",
       "0                 Orange juice is poured in a glass.  \\\n",
       "1  An apple is a whole food and unable to be drun...   \n",
       "2         This is not physically possible to achieve   \n",
       "3                           I do not have a stinger.   \n",
       "4                 A giraffe is an animal, not human.   \n",
       "\n",
       "                                      Right Reason3  \n",
       "0       Orange juice does not taste good on cereal.  \n",
       "1                                  He eats an apple  \n",
       "2     No way can someone run 100,000 miles in a day  \n",
       "3  mosquitos sting people, not the other way around  \n",
       "4                           A giraffe is an animal.  "
      ]
     },
     "execution_count": 6,
     "metadata": {},
     "output_type": "execute_result"
    }
   ],
   "source": [
    "import numpy as np\n",
    "import pandas as pd\n",
    "\n",
    "\n",
    "# Load CSV files.\n",
    "df_train = pd.read_csv(\"data/train.csv\")\n",
    "df_test = pd.read_csv(\"data/test.csv\")\n",
    "\n",
    "df_train.head()\n",
    "\n"
   ]
  },
  {
   "cell_type": "code",
   "execution_count": 4,
   "id": "39b8218f",
   "metadata": {},
   "outputs": [],
   "source": [
    "\n",
    "\n",
    "from podium import Vocab, Field, LabelField\n",
    "from podium.datasets import TabularDataset\n",
    "from podium.vectorizers import GloVe\n",
    "\n"
   ]
  },
  {
   "cell_type": "code",
   "execution_count": null,
   "id": "30053881",
   "metadata": {},
   "outputs": [],
   "source": [
    "max_vocab_size = 10_000\n",
    "vocab = Vocab(max_size=max_vocab_size, min_freq=2)\n",
    "\n",
    "def lowercase(raw):\n",
    "    return raw.lower()\n",
    "\n",
    "#TODO\n",
    "S1 = Field(name='sentence1', numericalizer=vocab, pretokenize_hooks=[lowercase]) # Sentence1 field\n",
    "S2 = Field(name='sentence2', numericalizer=vocab, pretokenize_hooks=[lowercase]) # Sentence2 field\n",
    "LABEL = LabelField(name='label') # Label field\n",
    "\n",
    "\n",
    "fields = [\n",
    "    S1,\n",
    "    S2,\n",
    "    LABEL,\n",
    "]\n",
    "\n",
    "train = TabularDataset.from_pandas(df_train, fields)\n",
    "test = TabularDataset.from_pandas(df_test, fields)\n",
    "train.finalize_fields()\n",
    "\n"
   ]
  },
  {
   "cell_type": "code",
   "execution_count": null,
   "id": "ce8f2687",
   "metadata": {},
   "outputs": [],
   "source": [
    "glove = GloVe()\n",
    "# Load only the vectors of vocab words.\n",
    "embeddings = glove.load_vocab(vocab)\n",
    "\n",
    "# Generate padded batch.\n",
    "train_batch = train.batch(add_padding=True)\n",
    "test_batch = test.batch(add_padding=True)"
   ]
  },
  {
   "cell_type": "code",
   "execution_count": null,
   "id": "c8393939",
   "metadata": {},
   "outputs": [],
   "source": [
    "def cosine_similarity(a, b):\n",
    "    return null"
   ]
  },
  {
   "cell_type": "code",
   "execution_count": null,
   "id": "fc6ac758",
   "metadata": {},
   "outputs": [],
   "source": [
    "\n",
    "        "
   ]
  },
  {
   "cell_type": "code",
   "execution_count": 6,
   "id": "d043cb86",
   "metadata": {},
   "outputs": [
    {
     "name": "stdout",
     "output_type": "stream",
     "text": [
      "4\n"
     ]
    }
   ],
   "source": []
  },
  {
   "cell_type": "code",
   "execution_count": null,
   "id": "6e67a82d",
   "metadata": {},
   "outputs": [],
   "source": []
  }
 ],
 "metadata": {
  "kernelspec": {
   "display_name": "Python 3 (ipykernel)",
   "language": "python",
   "name": "python3"
  },
  "language_info": {
   "codemirror_mode": {
    "name": "ipython",
    "version": 3
   },
   "file_extension": ".py",
   "mimetype": "text/x-python",
   "name": "python",
   "nbconvert_exporter": "python",
   "pygments_lexer": "ipython3",
   "version": "3.9.16"
  }
 },
 "nbformat": 4,
 "nbformat_minor": 5
}
